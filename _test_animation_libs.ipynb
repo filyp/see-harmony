{
 "cells": [
  {
   "cell_type": "code",
   "execution_count": null,
   "metadata": {
    "jupyter": {
     "source_hidden": true
    }
   },
   "outputs": [],
   "source": [
    "%gui qt\n",
    "import pyqtgraph as pg\n",
    "import numpy as np\n",
    "from time import sleep, time\n",
    "\n",
    "p = pg.plot()\n",
    "# p.setRange(xRange=[-3, 3], yRange=[-3, 3])\n",
    "\n",
    "for i in range(5):\n",
    "    xs = np.random.normal(size=(50))\n",
    "    ys = np.random.normal(size=(50))\n",
    "    p.clear()\n",
    "    points = pg.ScatterPlotItem(x=xs, y=ys, pen=None)\n",
    "    p.addItem(points)\n",
    "    p.repaint()\n",
    "    sleep(1)"
   ]
  },
  {
   "cell_type": "code",
   "execution_count": null,
   "metadata": {},
   "outputs": [],
   "source": [
    "# to run it you need:\n",
    "# bokeh==2.2.2\n",
    "# jupyterlab==2.2.8\n",
    "# matplotlib==3.3.2\n",
    "# pip-chill==1.0.0\n",
    "# plotly==4.11.0\n",
    "# pyqt5==5.15.1\n",
    "# pyqtgraph==0.11.0\n",
    "# pytest==6.1.1\n",
    "# pythreejs==2.2.1\n",
    "# scipy==1.5.2\n",
    "# vispy==0.6.5"
   ]
  },
  {
   "cell_type": "code",
   "execution_count": null,
   "metadata": {},
   "outputs": [],
   "source": [
    "# %gui qt5\n",
    "# from PyQt5.Qt import QApplication\n",
    "\n",
    "# # start qt event loop\n",
    "# _instance = QApplication.instance()\n",
    "# if not _instance:\n",
    "#     _instance = QApplication([])\n",
    "# app = _instance\n",
    "\n",
    "# import pyqtgraph as pg\n",
    "\n",
    "# # create and and set layout\n",
    "# view = pg.GraphicsView()\n",
    "# view.setWindowTitle('Your title')\n",
    "# layout = pg.GraphicsLayout()\n",
    "# view.setCentralItem(layout)\n",
    "# view.show()\n",
    "\n",
    "# # Set white graph\n",
    "# pg.setConfigOptions(antialias=True)\n",
    "# pg.setConfigOption('background', 'w')\n",
    "# pg.setConfigOption('foreground', 'k')\n",
    "\n",
    "# # add subplots\n",
    "# p0 = layout.addPlot(0,0)\n",
    "# p0.addLegend()\n",
    "# p0.plot([1,2,3,4,5], pen='b', name='p0')\n",
    "\n",
    "# p1 = layout.addPlot(1,0)\n",
    "# p1.addLegend()\n",
    "# p1.plot([2,2,2,2,], pen='r', name='p1')\n",
    "\n",
    "# p2 = layout.addPlot(1,0)\n",
    "# p2.addLegend(offset=(50, 0))\n",
    "# p2.plot([-1,0,1,1,], pen='g', name='p1.1')\n",
    "# p2.hideAxis('left')\n",
    "# p2.showAxis('right')"
   ]
  },
  {
   "cell_type": "code",
   "execution_count": null,
   "metadata": {},
   "outputs": [],
   "source": [
    "%gui qt\n",
    "import vispy\n",
    "\n",
    "vispy.test()"
   ]
  },
  {
   "cell_type": "code",
   "execution_count": null,
   "metadata": {},
   "outputs": [],
   "source": [
    "%gui qt\n",
    "from vispy.plot import Fig\n",
    "\n",
    "fig = Fig()\n",
    "\n",
    "ax_left = fig[0, 0]\n",
    "ax_right = fig[0, 1]"
   ]
  },
  {
   "cell_type": "code",
   "execution_count": null,
   "metadata": {},
   "outputs": [],
   "source": [
    "import numpy as np\n",
    "\n",
    "data = np.random.randn(2, 10)\n",
    "# ax_left.plot(data)\n",
    "ax_right.histogram(data[1])"
   ]
  },
  {
   "cell_type": "code",
   "execution_count": null,
   "metadata": {},
   "outputs": [],
   "source": [
    "import pythreejs as p3\n",
    "import ipywidgets as widgets\n",
    "import numpy as np\n",
    "import IPython.display as disp\n",
    "\n",
    "N = 1000\n",
    "pts1 = np.zeros([N, 3])\n",
    "pts1[:, 0] = np.linspace(0, 1, 1000)\n",
    "pts1[:, 1] = ppp = np.random.normal(size=(N))\n",
    "arr1 = p3.BufferAttribute(array=pts1)\n",
    "geometry1 = p3.BufferGeometry(\n",
    "    attributes={\n",
    "        \"position\": arr1,\n",
    "    }\n",
    ")\n",
    "material1 = p3.LineBasicMaterial(color=\"red\", linewidth=4)\n",
    "line1 = p3.Line(geometry=geometry1, material=material1)\n",
    "\n",
    "width = 800\n",
    "height = 500\n",
    "# Create the threejs scene with ambient light and camera\n",
    "camera = p3.PerspectiveCamera(position=[0, 0, 5], aspect=width / height)\n",
    "key_light = p3.DirectionalLight(position=[0, 10, 10])\n",
    "ambient_light = p3.AmbientLight()\n",
    "scene = p3.Scene(children=[line1, camera, key_light, ambient_light])\n",
    "controller = p3.OrbitControls(controlling=camera)\n",
    "# Render the scene into a widget\n",
    "renderer = p3.Renderer(\n",
    "    camera=camera, scene=scene, controls=[controller], width=width, height=height\n",
    ")\n",
    "sl = widgets.IntSlider(\n",
    "    value=0, min=0, max=N - 1, step=1, continuous_update=True, readout=True\n",
    ")\n",
    "\n",
    "\n",
    "def update_y(change):\n",
    "    #     for i, line in enumerate(ax.lines):\n",
    "    #         line.set_ydata(a[i][:, change[\"new\"]])\n",
    "    ppp = np.random.normal(size=(N))\n",
    "    pts1[:, 1] = ppp\n",
    "    geometry1.attributes[\"position\"].array = pts1\n",
    "\n",
    "\n",
    "sl.observe(update_y, names=\"value\")\n",
    "disp.display(sl)\n",
    "renderer"
   ]
  }
 ],
 "metadata": {
  "kernelspec": {
   "display_name": "Python 3",
   "language": "python",
   "name": "python3"
  },
  "language_info": {
   "codemirror_mode": {
    "name": "ipython",
    "version": 3
   },
   "file_extension": ".py",
   "mimetype": "text/x-python",
   "name": "python",
   "nbconvert_exporter": "python",
   "pygments_lexer": "ipython3",
   "version": "3.8.6"
  }
 },
 "nbformat": 4,
 "nbformat_minor": 4
}
