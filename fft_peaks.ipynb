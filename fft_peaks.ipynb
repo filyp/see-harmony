{
 "cells": [
  {
   "cell_type": "code",
   "execution_count": null,
   "metadata": {},
   "outputs": [],
   "source": [
    "# %load_ext lab_black\n",
    "import json\n",
    "import os\n",
    "import sys\n",
    "from time import sleep\n",
    "\n",
    "from  pythagoras import PolyphonicPlayer\n",
    "\n",
    "import numpy as np\n",
    "from scipy import signal\n",
    "from scipy.io import wavfile as wav\n",
    "import matplotlib.pyplot as plt\n",
    "\n",
    "import plotly.graph_objects as go\n",
    "from ipywidgets import interact, IntSlider\n",
    "\n",
    "plt.style.use(\"dark_background\")\n",
    "# np.set_printoptions(precision=2, linewidth=150)\n",
    "base_layout = dict(\n",
    "    template=\"plotly_dark\",\n",
    "    xaxis_showgrid=False,\n",
    "    yaxis_showgrid=False,\n",
    "    margin=dict(l=20, r=20, t=20, b=20),\n",
    ")"
   ]
  },
  {
   "cell_type": "code",
   "execution_count": null,
   "metadata": {
    "tags": []
   },
   "outputs": [],
   "source": [
    "nperseg = 1024 * 32\n",
    "# filename = \"data/moon_river_chord1.wav\"\n",
    "# filename = \"data/fa1.wav\"\n",
    "filename = \"data/ther1.wav\"\n",
    "# filename = \"data/moon_river_clipped.wav\"\n",
    "# filename = \"data/father_clipped.wav\"\n",
    "rate, data = wav.read(filename)\n",
    "data = data[:, 0] #+ data[:, 1]  # convert to mono\n"
   ]
  },
  {
   "cell_type": "code",
   "execution_count": null,
   "metadata": {},
   "outputs": [],
   "source": [
    "# f, t, Zxx = signal.stft(data, rate, nperseg=nperseg)\n",
    "\n",
    "# clip = nperseg // 64\n",
    "# Zxx = Zxx[:clip]\n",
    "# f = f[:clip]\n",
    "# print(Zxx.shape)\n",
    "\n",
    "# # TODO use only plotly\n",
    "# _, ax = plt.subplots(figsize=(20, 6))\n",
    "\n",
    "# ax.pcolormesh(t, f, np.abs(Zxx), vmin=0, shading=\"gouraud\")\n",
    "# ax.set_title(\"STFT Magnitude\")\n",
    "# ax.set_ylabel(\"Frequency [Hz]\")\n",
    "# ax.set_xlabel(\"Time [sec]\")"
   ]
  },
  {
   "cell_type": "code",
   "execution_count": null,
   "metadata": {},
   "outputs": [],
   "source": [
    "# freq = 1000\n",
    "# t = np.linspace(0, len(data) / rate, len(data))\n",
    "# fake_data = np.sin(2 * np.pi * freq * t)"
   ]
  },
  {
   "cell_type": "code",
   "execution_count": null,
   "metadata": {},
   "outputs": [],
   "source": [
    "lowest_frequency = 40\n",
    "omega = 1000\n",
    "octaves = 6\n",
    "\n",
    "# resolution of the human ear is about 6 cents = 1/16 of a semitone\n",
    "frequencies = lowest_frequency * 2 ** np.arange(0, octaves, 1/12/16)   # this should catch all the differences detectable by the human ear\n",
    "widths = omega * rate / (2 * np.pi * frequencies)\n",
    "wavelet_spectrum = signal.cwt(data, signal.morlet2, widths, w=omega)"
   ]
  },
  {
   "cell_type": "code",
   "execution_count": null,
   "metadata": {},
   "outputs": [],
   "source": [
    "# # divide into chunks\n",
    "# n = rate // 10\n",
    "# num_of_chunks = wavelet_spectrum.shape[1] // n\n",
    "\n",
    "# # wavelet_spectrum_abs = wavelet_spectrum_abs[:, :num_of_chunks * n]\n",
    "# # chunk_means = wavelet_spectrum_abs.reshape(wavelet_spectrum_abs.shape[0], num_of_chunks, n).mean(axis=2)\n",
    "\n",
    "# # times = np.arange(len(data)) / rate\n",
    "# # times = times[::n][:num_of_chunks]\n",
    "# # _, ax = plt.subplots(figsize=(20, 6))\n",
    "\n",
    "# # ax.pcolormesh(times, frequencies, np.abs(chunk_means), vmin=0, shading=\"gouraud\")\n",
    "# # ax.set_title(\"Wavelet magnitude\")\n",
    "# # ax.set_ylabel(\"Frequencies [Hz]\")\n",
    "# # ax.set_xlabel(\"Time [sec]\")\n",
    "\n",
    "# ! plot total means\n",
    "wavelet_spectrum_abs = np.abs(wavelet_spectrum)\n",
    "total_means = wavelet_spectrum_abs.mean(axis=1)\n",
    "# _, ax = plt.subplots(figsize=(20, 6))\n",
    "# ax.plot(frequencies, total_means)\n",
    "# # ax.plot(np.arange(len(frequencies)), total_means)   # this plots logarithmically\n",
    "# ax.set_xlabel(\"Frequencies [Hz]\")"
   ]
  },
  {
   "cell_type": "code",
   "execution_count": null,
   "metadata": {},
   "outputs": [],
   "source": [
    "def get_peaks_cwt(fft, width_range=(6, 50), height=400):\n",
    "    fft = np.abs(fft)\n",
    "    widths = np.arange(width_range[0], width_range[1])\n",
    "    peaks = signal.find_peaks_cwt(fft, widths)\n",
    "    volumes = fft[peaks]\n",
    "    mask = volumes > height\n",
    "    return peaks[mask], volumes[mask]\n",
    "\n",
    "\n",
    "def get_peaks(fft, window=17, height=400, distance=10, smooth=True):\n",
    "    fft = np.abs(fft)\n",
    "    original_fft = fft\n",
    "    if smooth:\n",
    "        fft = signal.savgol_filter(fft, window, 3)\n",
    "    peaks, peaks_prop = signal.find_peaks(fft, height=height, distance=distance)\n",
    "    signal.find_peaks_cwt\n",
    "    # TODO maybe use prominences\n",
    "    # heights = peaks_prop[\"peak_heights\"]\n",
    "\n",
    "    # get heights from the original fft, not the smooth one, but take the max from peak's surrounding, due to noise\n",
    "    # heights = original_fft[peaks]\n",
    "    peak_error_margin = 2\n",
    "    heights = [max(original_fft[max(peak-peak_error_margin, 0) : peak+peak_error_margin]) for peak in peaks]\n",
    "    return peaks, heights, fft\n",
    "\n",
    "\n",
    "def save_peaks_and_volumes(peaks, volumes, name):\n",
    "    npy_filename = os.path.join(\"chord_data\", f\"{name}.npy\")\n",
    "\n",
    "    with open(npy_filename, \"wb\") as f:\n",
    "        np.save(f, (peaks, volumes))\n",
    "        \n",
    "        \n",
    "def play(peaks, volumes, length):\n",
    "    volumes = volumes / np.sum(volumes)\n",
    "\n",
    "    freqs = frequencies[peaks]\n",
    "    # print(len(peaks))\n",
    "    # print(freqs)\n",
    "    # print(volumes)\n",
    "\n",
    "    player = PolyphonicPlayer(base_freq=1, max_voices=len(freqs))\n",
    "    player.ratios = freqs\n",
    "    player.volumes = volumes\n",
    "    player.start()\n",
    "\n",
    "    sleep(length)\n",
    "    player.kill()\n",
    "    player.join()"
   ]
  },
  {
   "cell_type": "code",
   "execution_count": null,
   "metadata": {
    "tags": []
   },
   "outputs": [],
   "source": [
    "fig = go.FigureWidget(layout=base_layout)\n",
    "fig.update_layout(\n",
    "    xaxis_range=[0, len(total_means)],\n",
    "    yaxis_range=[0, max(total_means)],\n",
    "    width=2000,\n",
    "    height=300,\n",
    ")\n",
    "fig.add_scattergl()\n",
    "fig.add_scattergl()\n",
    "\n",
    "\n",
    "# player = PolyphonicPlayer(base_freq=1, max_voices=200)\n",
    "# player.start()\n",
    "\n",
    "\n",
    "@interact(height=(0, max(total_means) / 10), distance=(1, 40), window=(4,21), play=False)\n",
    "def update(height, distance=10, window=5, play=False):\n",
    "    global peaks, volumes\n",
    "    # peaks, volumes = get_peaks_cwt(freq_slice)\n",
    "    peaks, volumes, smooth = get_peaks(total_means, height=height, distance=distance, window=window)\n",
    "    \n",
    "    # player.ratios = frequencies[peaks]\n",
    "    # if play:\n",
    "    #     player.volumes = volumes / np.sum(volumes)\n",
    "    # else:\n",
    "    #     player.volumes = np.zeros(len(player.volumes))\n",
    "\n",
    "    shapes = list()\n",
    "    for peak, vol in zip(peaks, volumes):\n",
    "        shapes.append(\n",
    "            {\n",
    "                \"type\": \"line\",\n",
    "                \"line_color\": \"orange\",\n",
    "                \"x0\": peak,\n",
    "                \"y0\": 0,\n",
    "                \"x1\": peak,\n",
    "                \"y1\": vol,\n",
    "            }\n",
    "        )\n",
    "\n",
    "    with fig.batch_update():\n",
    "        fig.data[0].y = np.abs(total_means)\n",
    "        fig.data[1].y = np.abs(smooth)\n",
    "        fig.layout.shapes = shapes\n",
    "    print(len(peaks))\n",
    "\n",
    "\n",
    "fig"
   ]
  },
  {
   "cell_type": "code",
   "execution_count": null,
   "metadata": {},
   "outputs": [],
   "source": [
    "player.kill()\n",
    "player.join()"
   ]
  },
  {
   "cell_type": "code",
   "execution_count": null,
   "metadata": {
    "jupyter": {
     "outputs_hidden": true
    },
    "tags": []
   },
   "outputs": [],
   "source": [
    "play(peaks, volumes, 6)"
   ]
  },
  {
   "cell_type": "code",
   "execution_count": null,
   "metadata": {},
   "outputs": [],
   "source": [
    "# name = os.path.split(filename)[1].split(\".\")[0]\n",
    "name = \"ther1\"\n",
    "save_peaks_and_volumes(frequencies[peaks], volumes, name)"
   ]
  },
  {
   "cell_type": "code",
   "execution_count": null,
   "metadata": {},
   "outputs": [],
   "source": [
    "# peaks, volumes, smooth = get_peaks(total_means, height=30000, distance=14, window=5)\n",
    "# # peaks, volumes = get_peaks_cwt(total_means, height=10000)\n",
    "# peaks = frequencies[peaks]\n",
    "\n",
    "# # plot total means\n",
    "# _, ax = plt.subplots(figsize=(20, 6))\n",
    "# ax.plot(frequencies, total_means)\n",
    "# ax.plot(frequencies, smooth)\n",
    "# ax.set_xlabel(\"Frequencies [Hz]\")\n",
    "\n",
    "# # add vertical lines to the plot for the peaks, with given heights\n",
    "# for peak, volume in zip(peaks, volumes):\n",
    "#     if peak > frequencies[-1]:\n",
    "#         break\n",
    "#     ax.axvline(peak, color=\"r\", linewidth=2, alpha=0.5, ymax=volume / max(volumes))\n",
    "#     # ax.axvline(peak, color=\"orange\", linewidth=2, alpha=0.5)\n",
    "\n"
   ]
  },
  {
   "cell_type": "code",
   "execution_count": null,
   "metadata": {},
   "outputs": [],
   "source": [
    "# !python play_peaks.py chord_data/moon_river_chord1.npy"
   ]
  },
  {
   "cell_type": "code",
   "execution_count": null,
   "metadata": {},
   "outputs": [],
   "source": []
  },
  {
   "cell_type": "code",
   "execution_count": null,
   "metadata": {
    "tags": []
   },
   "outputs": [],
   "source": [
    "# fig = go.FigureWidget(layout=base_layout)\n",
    "# fig.update_layout(\n",
    "#     xaxis_range=[0, Zxx.shape[0]],\n",
    "#     yaxis_range=[0, 4000],\n",
    "#     width=1000,\n",
    "#     height=300,\n",
    "# )\n",
    "# fig.add_scattergl()\n",
    "# fig.add_scattergl(line_color=\"green\")\n",
    "\n",
    "# xrange = Zxx.shape[1] - 1\n",
    "\n",
    "\n",
    "# @interact(x=(0, xrange))\n",
    "# def update(x=xrange // 2):\n",
    "#     freq_slice = Zxx[:, x]\n",
    "#     peaks, heights, smooth = get_peaks(freq_slice)\n",
    "\n",
    "#     shapes = list()\n",
    "#     for peak, height in zip(peaks, heights):\n",
    "#         shapes.append(\n",
    "#             {\n",
    "#                 \"type\": \"line\",\n",
    "#                 \"line_color\": \"orange\",\n",
    "#                 \"x0\": peak,\n",
    "#                 \"y0\": 0,\n",
    "#                 \"x1\": peak,\n",
    "#                 \"y1\": height,\n",
    "#             }\n",
    "#         )\n",
    "\n",
    "#     with fig.batch_update():\n",
    "#         fig.data[0].y = np.abs(freq_slice)\n",
    "#         fig.data[1].y = smooth\n",
    "#         fig.layout.shapes = shapes\n",
    "\n",
    "\n",
    "# fig"
   ]
  },
  {
   "cell_type": "code",
   "execution_count": null,
   "metadata": {},
   "outputs": [],
   "source": [
    "def get_ratios(peaks):\n",
    "    peaks = peaks.reshape((1, -1))\n",
    "    return peaks / peaks.T\n",
    "\n",
    "\n",
    "def get_strengths(heights):\n",
    "    heights = heights.reshape((1, -1))\n",
    "    return (heights * heights.T) ** (1 / 2)\n",
    "\n",
    "\n",
    "# significant = get_strengths(heights) > 400\n",
    "# significant = np.triu(significant)\n",
    "# get_ratios(peaks) * significant"
   ]
  },
  {
   "cell_type": "code",
   "execution_count": null,
   "metadata": {},
   "outputs": [],
   "source": [
    "get_ratios(peaks)"
   ]
  },
  {
   "cell_type": "code",
   "execution_count": null,
   "metadata": {},
   "outputs": [],
   "source": [
    "str(heights)"
   ]
  },
  {
   "cell_type": "code",
   "execution_count": null,
   "metadata": {},
   "outputs": [],
   "source": [
    "if not [1, 1]:\n",
    "    print(2)"
   ]
  },
  {
   "cell_type": "code",
   "execution_count": null,
   "metadata": {},
   "outputs": [],
   "source": [
    "[0] * 0"
   ]
  },
  {
   "cell_type": "code",
   "execution_count": null,
   "metadata": {},
   "outputs": [],
   "source": [
    "f = go.FigureWidget(layout=base_layout)\n",
    "f.update_layout(\n",
    "    yaxis_range=[0, Zxx.shape[0]],\n",
    "    xaxis_range=[0, Zxx.shape[0]],\n",
    "    width=600,\n",
    "    height=600,\n",
    ")\n",
    "\n",
    "f.add_scattergl(mode=\"markers\")\n",
    "f"
   ]
  },
  {
   "cell_type": "code",
   "execution_count": null,
   "metadata": {},
   "outputs": [],
   "source": [
    "speedup = 1\n",
    "time_len = 60  # in seconds, max 60\n",
    "i_range = Zxx.shape[1] * time_len // 60\n",
    "\n",
    "for i in range(i_range):\n",
    "    freq_slice = Zxx[:, i]\n",
    "    peaks, heights, _ = get_peaks(freq_slice)\n",
    "\n",
    "    xs, ys = np.meshgrid(peaks, peaks)\n",
    "    xs = xs.flatten()\n",
    "    ys = ys.flatten()\n",
    "    sizes = get_strengths(heights).flatten() / 50\n",
    "    ratios = get_ratios(peaks)\n",
    "\n",
    "    with f.batch_update():\n",
    "        f.update_traces(x=xs, y=ys, marker_size=sizes)  # set marker_color\n",
    "#     time.sleep(time_len / i_range / speedup)\n",
    "print(\"done\")"
   ]
  },
  {
   "cell_type": "code",
   "execution_count": null,
   "metadata": {},
   "outputs": [],
   "source": []
  }
 ],
 "metadata": {
  "kernelspec": {
   "display_name": "Python 3 (ipykernel)",
   "language": "python",
   "name": "python3"
  },
  "language_info": {
   "codemirror_mode": {
    "name": "ipython",
    "version": 3
   },
   "file_extension": ".py",
   "mimetype": "text/x-python",
   "name": "python",
   "nbconvert_exporter": "python",
   "pygments_lexer": "ipython3",
   "version": "3.10.2"
  }
 },
 "nbformat": 4,
 "nbformat_minor": 4
}
